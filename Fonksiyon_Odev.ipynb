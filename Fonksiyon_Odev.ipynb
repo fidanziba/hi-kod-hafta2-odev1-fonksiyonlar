{
 "cells": [
  {
   "cell_type": "markdown",
   "id": "1a3877fb",
   "metadata": {},
   "source": [
    "#### Kullanıcıdan pi değeri ve yarıçap bilgisi alarak dairenin alanını hesaplayan bir fonksiyon oluşturulur.\n",
    "\n",
    "\n"
   ]
  },
  {
   "cell_type": "code",
   "execution_count": 31,
   "id": "5774f9be",
   "metadata": {},
   "outputs": [
    {
     "name": "stdout",
     "output_type": "stream",
     "text": [
      "pi değerini girin: 3.50\n",
      "dairenin yarıçapını girin: 10\n",
      "Dairenin alanı: 350.0\n"
     ]
    }
   ],
   "source": [
    "def daire_alanini_hesapla():\n",
    "    pi = float(input(\"pi değerini girin: \"))\n",
    "    yaricap = float(input(\"dairenin yarıçapını girin: \"))\n",
    "\n",
    "    alan = pi * (yaricap ** 2)\n",
    "\n",
    "    print(f\"Dairenin alanı: {alan}\")\n",
    "\n",
    "daire_alanini_hesapla()\n"
   ]
  },
  {
   "cell_type": "markdown",
   "id": "f0c6a18b",
   "metadata": {},
   "source": [
    "#### Faktöriyel adında fonksiyon oluşturulur. Döngü kullanarak parametre olarak girilen sayının faktöriyeli hesaplanır. Format metodunu kullanılarak ekrana yazdırılır.\n"
   ]
  },
  {
   "cell_type": "code",
   "execution_count": 32,
   "id": "5ea553ae",
   "metadata": {},
   "outputs": [
    {
     "name": "stdout",
     "output_type": "stream",
     "text": [
      "sayı girin: 3\n",
      "3 sayısının faktöriyeli  6\n"
     ]
    }
   ],
   "source": [
    "def faktoriyel_hesapla(sayi):\n",
    "    faktoriyel = 1\n",
    "    for i in range(1, sayi + 1):\n",
    "        faktoriyel *= i\n",
    "    return faktoriyel\n",
    "\n",
    "sayi = int(input(\"sayı girin: \"))\n",
    "\n",
    "sonuc = faktoriyel_hesapla(sayi)\n",
    "\n",
    "print(\"{} sayısının faktöriyeli  {}\".format(sayi, sonuc))\n"
   ]
  },
  {
   "cell_type": "markdown",
   "id": "bf63a0fa",
   "metadata": {},
   "source": [
    "#### Kişinin fonksiyona doğum yılını vererek kaç yaşında olduğunu hesaplayan bir fonksiyon oluşturun. "
   ]
  },
  {
   "cell_type": "code",
   "execution_count": 33,
   "id": "a13b7813",
   "metadata": {},
   "outputs": [
    {
     "name": "stdout",
     "output_type": "stream",
     "text": [
      "Doğum yılınızı girin: 2001\n",
      "Yaşınız: 22\n"
     ]
    }
   ],
   "source": [
    "\n",
    "\n",
    "def hesapla_yas(dogum_yili):\n",
    "   \n",
    "    su_an = datetime.now()\n",
    "    \n",
    "    yas = su_an.year - dogum_yili\n",
    "    \n",
    "    return yas\n",
    "\n",
    "dogum_yili = int(input(\"Doğum yılınızı girin: \"))\n",
    "yas = hesapla_yas(dogum_yili)\n",
    "print(\"Yaşınız:\", yas)\n"
   ]
  },
  {
   "cell_type": "markdown",
   "id": "4244ad8a",
   "metadata": {},
   "source": [
    "#### Doğum yılı ve isim bilgisi verilen fonksiyon kişinin emekli olup olmadığını söylesin.(Kişi 65 yaşında ise emekli olur.) Burada yaş hesabını yukarıdaki örnekteki fonksiyonu kullanarak yapsın.(Yani fonksiyon içinde fonksiyon kullanmanızı istiyorum :)) Kişi 65 yaşında ya da daha fazlaysa \"Emekli oldunuz\" yanıtını, 65 yaşından küçükse emekliliğine kaç yıl kaldığını da hesaplayarak \"(isim) emekliliğine (yıl) kaldı.\" yanıtını versin."
   ]
  },
  {
   "cell_type": "code",
   "execution_count": null,
   "id": "6885e7c6",
   "metadata": {},
   "outputs": [],
   "source": []
  }
 ],
 "metadata": {
  "kernelspec": {
   "display_name": "Python 3 (ipykernel)",
   "language": "python",
   "name": "python3"
  },
  "language_info": {
   "codemirror_mode": {
    "name": "ipython",
    "version": 3
   },
   "file_extension": ".py",
   "mimetype": "text/x-python",
   "name": "python",
   "nbconvert_exporter": "python",
   "pygments_lexer": "ipython3",
   "version": "3.11.4"
  }
 },
 "nbformat": 4,
 "nbformat_minor": 5
}
